{
  "nbformat": 4,
  "nbformat_minor": 0,
  "metadata": {
    "colab": {
      "provenance": [],
      "gpuType": "T4",
      "authorship_tag": "ABX9TyM3xWFZIu2cLlzHlCusnz+Z",
      "include_colab_link": true
    },
    "kernelspec": {
      "name": "python3",
      "display_name": "Python 3"
    },
    "language_info": {
      "name": "python"
    },
    "accelerator": "GPU"
  },
  "cells": [
    {
      "cell_type": "markdown",
      "metadata": {
        "id": "view-in-github",
        "colab_type": "text"
      },
      "source": [
        "<a href=\"https://colab.research.google.com/github/meriambar123/memoire/blob/main/Add_personnlizer_recognizer.ipynb\" target=\"_parent\"><img src=\"https://colab.research.google.com/assets/colab-badge.svg\" alt=\"Open In Colab\"/></a>"
      ]
    },
    {
      "cell_type": "code",
      "execution_count": 2,
      "metadata": {
        "id": "QGiZNMD9q0Kx",
        "colab": {
          "base_uri": "https://localhost:8080/"
        },
        "outputId": "08f83e1a-09e8-4bd1-b7df-23bedf81612b"
      },
      "outputs": [
        {
          "output_type": "stream",
          "name": "stdout",
          "text": [
            "Collecting presidio_analyzer\n",
            "  Downloading presidio_analyzer-2.2.355-py3-none-any.whl.metadata (2.9 kB)\n",
            "Collecting presidio_anonymizer\n",
            "  Downloading presidio_anonymizer-2.2.355-py3-none-any.whl.metadata (8.2 kB)\n",
            "Collecting phonenumbers<9.0.0,>=8.12 (from presidio_analyzer)\n",
            "  Downloading phonenumbers-8.13.42-py2.py3-none-any.whl.metadata (10 kB)\n",
            "Requirement already satisfied: pyyaml in /usr/local/lib/python3.10/dist-packages (from presidio_analyzer) (6.0.1)\n",
            "Requirement already satisfied: regex in /usr/local/lib/python3.10/dist-packages (from presidio_analyzer) (2024.5.15)\n",
            "Requirement already satisfied: spacy<4.0.0,>=3.4.4 in /usr/local/lib/python3.10/dist-packages (from presidio_analyzer) (3.7.5)\n",
            "Collecting tldextract (from presidio_analyzer)\n",
            "  Downloading tldextract-5.1.2-py3-none-any.whl.metadata (11 kB)\n",
            "Collecting azure-core (from presidio_anonymizer)\n",
            "  Downloading azure_core-1.30.2-py3-none-any.whl.metadata (37 kB)\n",
            "Collecting pycryptodome>=3.10.1 (from presidio_anonymizer)\n",
            "  Downloading pycryptodome-3.20.0-cp35-abi3-manylinux_2_17_x86_64.manylinux2014_x86_64.whl.metadata (3.4 kB)\n",
            "Requirement already satisfied: spacy-legacy<3.1.0,>=3.0.11 in /usr/local/lib/python3.10/dist-packages (from spacy<4.0.0,>=3.4.4->presidio_analyzer) (3.0.12)\n",
            "Requirement already satisfied: spacy-loggers<2.0.0,>=1.0.0 in /usr/local/lib/python3.10/dist-packages (from spacy<4.0.0,>=3.4.4->presidio_analyzer) (1.0.5)\n",
            "Requirement already satisfied: murmurhash<1.1.0,>=0.28.0 in /usr/local/lib/python3.10/dist-packages (from spacy<4.0.0,>=3.4.4->presidio_analyzer) (1.0.10)\n",
            "Requirement already satisfied: cymem<2.1.0,>=2.0.2 in /usr/local/lib/python3.10/dist-packages (from spacy<4.0.0,>=3.4.4->presidio_analyzer) (2.0.8)\n",
            "Requirement already satisfied: preshed<3.1.0,>=3.0.2 in /usr/local/lib/python3.10/dist-packages (from spacy<4.0.0,>=3.4.4->presidio_analyzer) (3.0.9)\n",
            "Requirement already satisfied: thinc<8.3.0,>=8.2.2 in /usr/local/lib/python3.10/dist-packages (from spacy<4.0.0,>=3.4.4->presidio_analyzer) (8.2.5)\n",
            "Requirement already satisfied: wasabi<1.2.0,>=0.9.1 in /usr/local/lib/python3.10/dist-packages (from spacy<4.0.0,>=3.4.4->presidio_analyzer) (1.1.3)\n",
            "Requirement already satisfied: srsly<3.0.0,>=2.4.3 in /usr/local/lib/python3.10/dist-packages (from spacy<4.0.0,>=3.4.4->presidio_analyzer) (2.4.8)\n",
            "Requirement already satisfied: catalogue<2.1.0,>=2.0.6 in /usr/local/lib/python3.10/dist-packages (from spacy<4.0.0,>=3.4.4->presidio_analyzer) (2.0.10)\n",
            "Requirement already satisfied: weasel<0.5.0,>=0.1.0 in /usr/local/lib/python3.10/dist-packages (from spacy<4.0.0,>=3.4.4->presidio_analyzer) (0.4.1)\n",
            "Requirement already satisfied: typer<1.0.0,>=0.3.0 in /usr/local/lib/python3.10/dist-packages (from spacy<4.0.0,>=3.4.4->presidio_analyzer) (0.12.3)\n",
            "Requirement already satisfied: tqdm<5.0.0,>=4.38.0 in /usr/local/lib/python3.10/dist-packages (from spacy<4.0.0,>=3.4.4->presidio_analyzer) (4.66.5)\n",
            "Requirement already satisfied: requests<3.0.0,>=2.13.0 in /usr/local/lib/python3.10/dist-packages (from spacy<4.0.0,>=3.4.4->presidio_analyzer) (2.32.3)\n",
            "Requirement already satisfied: pydantic!=1.8,!=1.8.1,<3.0.0,>=1.7.4 in /usr/local/lib/python3.10/dist-packages (from spacy<4.0.0,>=3.4.4->presidio_analyzer) (2.8.2)\n",
            "Requirement already satisfied: jinja2 in /usr/local/lib/python3.10/dist-packages (from spacy<4.0.0,>=3.4.4->presidio_analyzer) (3.1.4)\n",
            "Requirement already satisfied: setuptools in /usr/local/lib/python3.10/dist-packages (from spacy<4.0.0,>=3.4.4->presidio_analyzer) (71.0.4)\n",
            "Requirement already satisfied: packaging>=20.0 in /usr/local/lib/python3.10/dist-packages (from spacy<4.0.0,>=3.4.4->presidio_analyzer) (24.1)\n",
            "Requirement already satisfied: langcodes<4.0.0,>=3.2.0 in /usr/local/lib/python3.10/dist-packages (from spacy<4.0.0,>=3.4.4->presidio_analyzer) (3.4.0)\n",
            "Requirement already satisfied: numpy>=1.19.0 in /usr/local/lib/python3.10/dist-packages (from spacy<4.0.0,>=3.4.4->presidio_analyzer) (1.26.4)\n",
            "Requirement already satisfied: six>=1.11.0 in /usr/local/lib/python3.10/dist-packages (from azure-core->presidio_anonymizer) (1.16.0)\n",
            "Requirement already satisfied: typing-extensions>=4.6.0 in /usr/local/lib/python3.10/dist-packages (from azure-core->presidio_anonymizer) (4.12.2)\n",
            "Requirement already satisfied: idna in /usr/local/lib/python3.10/dist-packages (from tldextract->presidio_analyzer) (3.7)\n",
            "Collecting requests-file>=1.4 (from tldextract->presidio_analyzer)\n",
            "  Downloading requests_file-2.1.0-py2.py3-none-any.whl.metadata (1.7 kB)\n",
            "Requirement already satisfied: filelock>=3.0.8 in /usr/local/lib/python3.10/dist-packages (from tldextract->presidio_analyzer) (3.15.4)\n",
            "Requirement already satisfied: language-data>=1.2 in /usr/local/lib/python3.10/dist-packages (from langcodes<4.0.0,>=3.2.0->spacy<4.0.0,>=3.4.4->presidio_analyzer) (1.2.0)\n",
            "Requirement already satisfied: annotated-types>=0.4.0 in /usr/local/lib/python3.10/dist-packages (from pydantic!=1.8,!=1.8.1,<3.0.0,>=1.7.4->spacy<4.0.0,>=3.4.4->presidio_analyzer) (0.7.0)\n",
            "Requirement already satisfied: pydantic-core==2.20.1 in /usr/local/lib/python3.10/dist-packages (from pydantic!=1.8,!=1.8.1,<3.0.0,>=1.7.4->spacy<4.0.0,>=3.4.4->presidio_analyzer) (2.20.1)\n",
            "Requirement already satisfied: charset-normalizer<4,>=2 in /usr/local/lib/python3.10/dist-packages (from requests<3.0.0,>=2.13.0->spacy<4.0.0,>=3.4.4->presidio_analyzer) (3.3.2)\n",
            "Requirement already satisfied: urllib3<3,>=1.21.1 in /usr/local/lib/python3.10/dist-packages (from requests<3.0.0,>=2.13.0->spacy<4.0.0,>=3.4.4->presidio_analyzer) (2.0.7)\n",
            "Requirement already satisfied: certifi>=2017.4.17 in /usr/local/lib/python3.10/dist-packages (from requests<3.0.0,>=2.13.0->spacy<4.0.0,>=3.4.4->presidio_analyzer) (2024.7.4)\n",
            "Requirement already satisfied: blis<0.8.0,>=0.7.8 in /usr/local/lib/python3.10/dist-packages (from thinc<8.3.0,>=8.2.2->spacy<4.0.0,>=3.4.4->presidio_analyzer) (0.7.11)\n",
            "Requirement already satisfied: confection<1.0.0,>=0.0.1 in /usr/local/lib/python3.10/dist-packages (from thinc<8.3.0,>=8.2.2->spacy<4.0.0,>=3.4.4->presidio_analyzer) (0.1.5)\n",
            "Requirement already satisfied: click>=8.0.0 in /usr/local/lib/python3.10/dist-packages (from typer<1.0.0,>=0.3.0->spacy<4.0.0,>=3.4.4->presidio_analyzer) (8.1.7)\n",
            "Requirement already satisfied: shellingham>=1.3.0 in /usr/local/lib/python3.10/dist-packages (from typer<1.0.0,>=0.3.0->spacy<4.0.0,>=3.4.4->presidio_analyzer) (1.5.4)\n",
            "Requirement already satisfied: rich>=10.11.0 in /usr/local/lib/python3.10/dist-packages (from typer<1.0.0,>=0.3.0->spacy<4.0.0,>=3.4.4->presidio_analyzer) (13.7.1)\n",
            "Requirement already satisfied: cloudpathlib<1.0.0,>=0.7.0 in /usr/local/lib/python3.10/dist-packages (from weasel<0.5.0,>=0.1.0->spacy<4.0.0,>=3.4.4->presidio_analyzer) (0.18.1)\n",
            "Requirement already satisfied: smart-open<8.0.0,>=5.2.1 in /usr/local/lib/python3.10/dist-packages (from weasel<0.5.0,>=0.1.0->spacy<4.0.0,>=3.4.4->presidio_analyzer) (7.0.4)\n",
            "Requirement already satisfied: MarkupSafe>=2.0 in /usr/local/lib/python3.10/dist-packages (from jinja2->spacy<4.0.0,>=3.4.4->presidio_analyzer) (2.1.5)\n",
            "Requirement already satisfied: marisa-trie>=0.7.7 in /usr/local/lib/python3.10/dist-packages (from language-data>=1.2->langcodes<4.0.0,>=3.2.0->spacy<4.0.0,>=3.4.4->presidio_analyzer) (1.2.0)\n",
            "Requirement already satisfied: markdown-it-py>=2.2.0 in /usr/local/lib/python3.10/dist-packages (from rich>=10.11.0->typer<1.0.0,>=0.3.0->spacy<4.0.0,>=3.4.4->presidio_analyzer) (3.0.0)\n",
            "Requirement already satisfied: pygments<3.0.0,>=2.13.0 in /usr/local/lib/python3.10/dist-packages (from rich>=10.11.0->typer<1.0.0,>=0.3.0->spacy<4.0.0,>=3.4.4->presidio_analyzer) (2.16.1)\n",
            "Requirement already satisfied: wrapt in /usr/local/lib/python3.10/dist-packages (from smart-open<8.0.0,>=5.2.1->weasel<0.5.0,>=0.1.0->spacy<4.0.0,>=3.4.4->presidio_analyzer) (1.16.0)\n",
            "Requirement already satisfied: mdurl~=0.1 in /usr/local/lib/python3.10/dist-packages (from markdown-it-py>=2.2.0->rich>=10.11.0->typer<1.0.0,>=0.3.0->spacy<4.0.0,>=3.4.4->presidio_analyzer) (0.1.2)\n",
            "Downloading presidio_analyzer-2.2.355-py3-none-any.whl (109 kB)\n",
            "\u001b[2K   \u001b[90m━━━━━━━━━━━━━━━━━━━━━━━━━━━━━━━━━━━━━━━━\u001b[0m \u001b[32m109.2/109.2 kB\u001b[0m \u001b[31m7.2 MB/s\u001b[0m eta \u001b[36m0:00:00\u001b[0m\n",
            "\u001b[?25hDownloading presidio_anonymizer-2.2.355-py3-none-any.whl (31 kB)\n",
            "Downloading phonenumbers-8.13.42-py2.py3-none-any.whl (2.6 MB)\n",
            "\u001b[2K   \u001b[90m━━━━━━━━━━━━━━━━━━━━━━━━━━━━━━━━━━━━━━━━\u001b[0m \u001b[32m2.6/2.6 MB\u001b[0m \u001b[31m53.6 MB/s\u001b[0m eta \u001b[36m0:00:00\u001b[0m\n",
            "\u001b[?25hDownloading pycryptodome-3.20.0-cp35-abi3-manylinux_2_17_x86_64.manylinux2014_x86_64.whl (2.1 MB)\n",
            "\u001b[2K   \u001b[90m━━━━━━━━━━━━━━━━━━━━━━━━━━━━━━━━━━━━━━━━\u001b[0m \u001b[32m2.1/2.1 MB\u001b[0m \u001b[31m55.4 MB/s\u001b[0m eta \u001b[36m0:00:00\u001b[0m\n",
            "\u001b[?25hDownloading azure_core-1.30.2-py3-none-any.whl (194 kB)\n",
            "\u001b[2K   \u001b[90m━━━━━━━━━━━━━━━━━━━━━━━━━━━━━━━━━━━━━━━━\u001b[0m \u001b[32m194.3/194.3 kB\u001b[0m \u001b[31m13.0 MB/s\u001b[0m eta \u001b[36m0:00:00\u001b[0m\n",
            "\u001b[?25hDownloading tldextract-5.1.2-py3-none-any.whl (97 kB)\n",
            "\u001b[2K   \u001b[90m━━━━━━━━━━━━━━━━━━━━━━━━━━━━━━━━━━━━━━━━\u001b[0m \u001b[32m97.6/97.6 kB\u001b[0m \u001b[31m7.5 MB/s\u001b[0m eta \u001b[36m0:00:00\u001b[0m\n",
            "\u001b[?25hDownloading requests_file-2.1.0-py2.py3-none-any.whl (4.2 kB)\n",
            "Installing collected packages: phonenumbers, pycryptodome, requests-file, azure-core, tldextract, presidio_anonymizer, presidio_analyzer\n",
            "Successfully installed azure-core-1.30.2 phonenumbers-8.13.42 presidio_analyzer-2.2.355 presidio_anonymizer-2.2.355 pycryptodome-3.20.0 requests-file-2.1.0 tldextract-5.1.2\n",
            "Collecting en-core-web-lg==3.7.1\n",
            "  Downloading https://github.com/explosion/spacy-models/releases/download/en_core_web_lg-3.7.1/en_core_web_lg-3.7.1-py3-none-any.whl (587.7 MB)\n",
            "\u001b[2K     \u001b[90m━━━━━━━━━━━━━━━━━━━━━━━━━━━━━━━━━━━━━━━━\u001b[0m \u001b[32m587.7/587.7 MB\u001b[0m \u001b[31m852.9 kB/s\u001b[0m eta \u001b[36m0:00:00\u001b[0m\n",
            "\u001b[?25hRequirement already satisfied: spacy<3.8.0,>=3.7.2 in /usr/local/lib/python3.10/dist-packages (from en-core-web-lg==3.7.1) (3.7.5)\n",
            "Requirement already satisfied: spacy-legacy<3.1.0,>=3.0.11 in /usr/local/lib/python3.10/dist-packages (from spacy<3.8.0,>=3.7.2->en-core-web-lg==3.7.1) (3.0.12)\n",
            "Requirement already satisfied: spacy-loggers<2.0.0,>=1.0.0 in /usr/local/lib/python3.10/dist-packages (from spacy<3.8.0,>=3.7.2->en-core-web-lg==3.7.1) (1.0.5)\n",
            "Requirement already satisfied: murmurhash<1.1.0,>=0.28.0 in /usr/local/lib/python3.10/dist-packages (from spacy<3.8.0,>=3.7.2->en-core-web-lg==3.7.1) (1.0.10)\n",
            "Requirement already satisfied: cymem<2.1.0,>=2.0.2 in /usr/local/lib/python3.10/dist-packages (from spacy<3.8.0,>=3.7.2->en-core-web-lg==3.7.1) (2.0.8)\n",
            "Requirement already satisfied: preshed<3.1.0,>=3.0.2 in /usr/local/lib/python3.10/dist-packages (from spacy<3.8.0,>=3.7.2->en-core-web-lg==3.7.1) (3.0.9)\n",
            "Requirement already satisfied: thinc<8.3.0,>=8.2.2 in /usr/local/lib/python3.10/dist-packages (from spacy<3.8.0,>=3.7.2->en-core-web-lg==3.7.1) (8.2.5)\n",
            "Requirement already satisfied: wasabi<1.2.0,>=0.9.1 in /usr/local/lib/python3.10/dist-packages (from spacy<3.8.0,>=3.7.2->en-core-web-lg==3.7.1) (1.1.3)\n",
            "Requirement already satisfied: srsly<3.0.0,>=2.4.3 in /usr/local/lib/python3.10/dist-packages (from spacy<3.8.0,>=3.7.2->en-core-web-lg==3.7.1) (2.4.8)\n",
            "Requirement already satisfied: catalogue<2.1.0,>=2.0.6 in /usr/local/lib/python3.10/dist-packages (from spacy<3.8.0,>=3.7.2->en-core-web-lg==3.7.1) (2.0.10)\n",
            "Requirement already satisfied: weasel<0.5.0,>=0.1.0 in /usr/local/lib/python3.10/dist-packages (from spacy<3.8.0,>=3.7.2->en-core-web-lg==3.7.1) (0.4.1)\n",
            "Requirement already satisfied: typer<1.0.0,>=0.3.0 in /usr/local/lib/python3.10/dist-packages (from spacy<3.8.0,>=3.7.2->en-core-web-lg==3.7.1) (0.12.3)\n",
            "Requirement already satisfied: tqdm<5.0.0,>=4.38.0 in /usr/local/lib/python3.10/dist-packages (from spacy<3.8.0,>=3.7.2->en-core-web-lg==3.7.1) (4.66.5)\n",
            "Requirement already satisfied: requests<3.0.0,>=2.13.0 in /usr/local/lib/python3.10/dist-packages (from spacy<3.8.0,>=3.7.2->en-core-web-lg==3.7.1) (2.32.3)\n",
            "Requirement already satisfied: pydantic!=1.8,!=1.8.1,<3.0.0,>=1.7.4 in /usr/local/lib/python3.10/dist-packages (from spacy<3.8.0,>=3.7.2->en-core-web-lg==3.7.1) (2.8.2)\n",
            "Requirement already satisfied: jinja2 in /usr/local/lib/python3.10/dist-packages (from spacy<3.8.0,>=3.7.2->en-core-web-lg==3.7.1) (3.1.4)\n",
            "Requirement already satisfied: setuptools in /usr/local/lib/python3.10/dist-packages (from spacy<3.8.0,>=3.7.2->en-core-web-lg==3.7.1) (71.0.4)\n",
            "Requirement already satisfied: packaging>=20.0 in /usr/local/lib/python3.10/dist-packages (from spacy<3.8.0,>=3.7.2->en-core-web-lg==3.7.1) (24.1)\n",
            "Requirement already satisfied: langcodes<4.0.0,>=3.2.0 in /usr/local/lib/python3.10/dist-packages (from spacy<3.8.0,>=3.7.2->en-core-web-lg==3.7.1) (3.4.0)\n",
            "Requirement already satisfied: numpy>=1.19.0 in /usr/local/lib/python3.10/dist-packages (from spacy<3.8.0,>=3.7.2->en-core-web-lg==3.7.1) (1.26.4)\n",
            "Requirement already satisfied: language-data>=1.2 in /usr/local/lib/python3.10/dist-packages (from langcodes<4.0.0,>=3.2.0->spacy<3.8.0,>=3.7.2->en-core-web-lg==3.7.1) (1.2.0)\n",
            "Requirement already satisfied: annotated-types>=0.4.0 in /usr/local/lib/python3.10/dist-packages (from pydantic!=1.8,!=1.8.1,<3.0.0,>=1.7.4->spacy<3.8.0,>=3.7.2->en-core-web-lg==3.7.1) (0.7.0)\n",
            "Requirement already satisfied: pydantic-core==2.20.1 in /usr/local/lib/python3.10/dist-packages (from pydantic!=1.8,!=1.8.1,<3.0.0,>=1.7.4->spacy<3.8.0,>=3.7.2->en-core-web-lg==3.7.1) (2.20.1)\n",
            "Requirement already satisfied: typing-extensions>=4.6.1 in /usr/local/lib/python3.10/dist-packages (from pydantic!=1.8,!=1.8.1,<3.0.0,>=1.7.4->spacy<3.8.0,>=3.7.2->en-core-web-lg==3.7.1) (4.12.2)\n",
            "Requirement already satisfied: charset-normalizer<4,>=2 in /usr/local/lib/python3.10/dist-packages (from requests<3.0.0,>=2.13.0->spacy<3.8.0,>=3.7.2->en-core-web-lg==3.7.1) (3.3.2)\n",
            "Requirement already satisfied: idna<4,>=2.5 in /usr/local/lib/python3.10/dist-packages (from requests<3.0.0,>=2.13.0->spacy<3.8.0,>=3.7.2->en-core-web-lg==3.7.1) (3.7)\n",
            "Requirement already satisfied: urllib3<3,>=1.21.1 in /usr/local/lib/python3.10/dist-packages (from requests<3.0.0,>=2.13.0->spacy<3.8.0,>=3.7.2->en-core-web-lg==3.7.1) (2.0.7)\n",
            "Requirement already satisfied: certifi>=2017.4.17 in /usr/local/lib/python3.10/dist-packages (from requests<3.0.0,>=2.13.0->spacy<3.8.0,>=3.7.2->en-core-web-lg==3.7.1) (2024.7.4)\n",
            "Requirement already satisfied: blis<0.8.0,>=0.7.8 in /usr/local/lib/python3.10/dist-packages (from thinc<8.3.0,>=8.2.2->spacy<3.8.0,>=3.7.2->en-core-web-lg==3.7.1) (0.7.11)\n",
            "Requirement already satisfied: confection<1.0.0,>=0.0.1 in /usr/local/lib/python3.10/dist-packages (from thinc<8.3.0,>=8.2.2->spacy<3.8.0,>=3.7.2->en-core-web-lg==3.7.1) (0.1.5)\n",
            "Requirement already satisfied: click>=8.0.0 in /usr/local/lib/python3.10/dist-packages (from typer<1.0.0,>=0.3.0->spacy<3.8.0,>=3.7.2->en-core-web-lg==3.7.1) (8.1.7)\n",
            "Requirement already satisfied: shellingham>=1.3.0 in /usr/local/lib/python3.10/dist-packages (from typer<1.0.0,>=0.3.0->spacy<3.8.0,>=3.7.2->en-core-web-lg==3.7.1) (1.5.4)\n",
            "Requirement already satisfied: rich>=10.11.0 in /usr/local/lib/python3.10/dist-packages (from typer<1.0.0,>=0.3.0->spacy<3.8.0,>=3.7.2->en-core-web-lg==3.7.1) (13.7.1)\n",
            "Requirement already satisfied: cloudpathlib<1.0.0,>=0.7.0 in /usr/local/lib/python3.10/dist-packages (from weasel<0.5.0,>=0.1.0->spacy<3.8.0,>=3.7.2->en-core-web-lg==3.7.1) (0.18.1)\n",
            "Requirement already satisfied: smart-open<8.0.0,>=5.2.1 in /usr/local/lib/python3.10/dist-packages (from weasel<0.5.0,>=0.1.0->spacy<3.8.0,>=3.7.2->en-core-web-lg==3.7.1) (7.0.4)\n",
            "Requirement already satisfied: MarkupSafe>=2.0 in /usr/local/lib/python3.10/dist-packages (from jinja2->spacy<3.8.0,>=3.7.2->en-core-web-lg==3.7.1) (2.1.5)\n",
            "Requirement already satisfied: marisa-trie>=0.7.7 in /usr/local/lib/python3.10/dist-packages (from language-data>=1.2->langcodes<4.0.0,>=3.2.0->spacy<3.8.0,>=3.7.2->en-core-web-lg==3.7.1) (1.2.0)\n",
            "Requirement already satisfied: markdown-it-py>=2.2.0 in /usr/local/lib/python3.10/dist-packages (from rich>=10.11.0->typer<1.0.0,>=0.3.0->spacy<3.8.0,>=3.7.2->en-core-web-lg==3.7.1) (3.0.0)\n",
            "Requirement already satisfied: pygments<3.0.0,>=2.13.0 in /usr/local/lib/python3.10/dist-packages (from rich>=10.11.0->typer<1.0.0,>=0.3.0->spacy<3.8.0,>=3.7.2->en-core-web-lg==3.7.1) (2.16.1)\n",
            "Requirement already satisfied: wrapt in /usr/local/lib/python3.10/dist-packages (from smart-open<8.0.0,>=5.2.1->weasel<0.5.0,>=0.1.0->spacy<3.8.0,>=3.7.2->en-core-web-lg==3.7.1) (1.16.0)\n",
            "Requirement already satisfied: mdurl~=0.1 in /usr/local/lib/python3.10/dist-packages (from markdown-it-py>=2.2.0->rich>=10.11.0->typer<1.0.0,>=0.3.0->spacy<3.8.0,>=3.7.2->en-core-web-lg==3.7.1) (0.1.2)\n",
            "Installing collected packages: en-core-web-lg\n",
            "Successfully installed en-core-web-lg-3.7.1\n",
            "\u001b[38;5;2m✔ Download and installation successful\u001b[0m\n",
            "You can now load the package via spacy.load('en_core_web_lg')\n",
            "\u001b[38;5;3m⚠ Restart to reload dependencies\u001b[0m\n",
            "If you are in a Jupyter or Colab notebook, you may need to restart Python in\n",
            "order to load all the package's dependencies. You can do this by selecting the\n",
            "'Restart kernel' or 'Restart runtime' option.\n"
          ]
        }
      ],
      "source": [
        "# download presidio\n",
        "!pip install presidio_analyzer presidio_anonymizer\n",
        "!python -m spacy download en_core_web_lg"
      ]
    },
    {
      "cell_type": "code",
      "source": [
        "!pip install --upgrade --quiet  langchain langchain-experimental langchain-openai presidio-analyzer presidio-anonymizer spacy Faker faiss-cpu tiktoken"
      ],
      "metadata": {
        "colab": {
          "base_uri": "https://localhost:8080/"
        },
        "id": "tV7hI1c3zw6y",
        "outputId": "5beb1eab-4485-49b5-a9db-b6988605ed4c"
      },
      "execution_count": 3,
      "outputs": [
        {
          "output_type": "stream",
          "name": "stdout",
          "text": [
            "\u001b[33mWARNING: Retrying (Retry(total=4, connect=None, read=None, redirect=None, status=None)) after connection broken by 'ProtocolError('Connection aborted.', RemoteDisconnected('Remote end closed connection without response'))': /simple/langchain-openai/\u001b[0m\u001b[33m\n",
            "\u001b[2K     \u001b[90m━━━━━━━━━━━━━━━━━━━━━━━━━━━━━━━━━━━━━━━━\u001b[0m \u001b[32m50.4/50.4 kB\u001b[0m \u001b[31m2.8 MB/s\u001b[0m eta \u001b[36m0:00:00\u001b[0m\n",
            "\u001b[2K   \u001b[90m━━━━━━━━━━━━━━━━━━━━━━━━━━━━━━━━━━━━━━━━\u001b[0m \u001b[32m990.6/990.6 kB\u001b[0m \u001b[31m37.9 MB/s\u001b[0m eta \u001b[36m0:00:00\u001b[0m\n",
            "\u001b[2K   \u001b[90m━━━━━━━━━━━━━━━━━━━━━━━━━━━━━━━━━━━━━━━━\u001b[0m \u001b[32m204.3/204.3 kB\u001b[0m \u001b[31m14.8 MB/s\u001b[0m eta \u001b[36m0:00:00\u001b[0m\n",
            "\u001b[2K   \u001b[90m━━━━━━━━━━━━━━━━━━━━━━━━━━━━━━━━━━━━━━━━\u001b[0m \u001b[32m48.2/48.2 kB\u001b[0m \u001b[31m3.4 MB/s\u001b[0m eta \u001b[36m0:00:00\u001b[0m\n",
            "\u001b[2K   \u001b[90m━━━━━━━━━━━━━━━━━━━━━━━━━━━━━━━━━━━━━━━━\u001b[0m \u001b[32m1.8/1.8 MB\u001b[0m \u001b[31m64.0 MB/s\u001b[0m eta \u001b[36m0:00:00\u001b[0m\n",
            "\u001b[2K   \u001b[90m━━━━━━━━━━━━━━━━━━━━━━━━━━━━━━━━━━━━━━━━\u001b[0m \u001b[32m27.0/27.0 MB\u001b[0m \u001b[31m64.0 MB/s\u001b[0m eta \u001b[36m0:00:00\u001b[0m\n",
            "\u001b[2K   \u001b[90m━━━━━━━━━━━━━━━━━━━━━━━━━━━━━━━━━━━━━━━━\u001b[0m \u001b[32m1.1/1.1 MB\u001b[0m \u001b[31m39.4 MB/s\u001b[0m eta \u001b[36m0:00:00\u001b[0m\n",
            "\u001b[2K   \u001b[90m━━━━━━━━━━━━━━━━━━━━━━━━━━━━━━━━━━━━━━━━\u001b[0m \u001b[32m2.3/2.3 MB\u001b[0m \u001b[31m52.8 MB/s\u001b[0m eta \u001b[36m0:00:00\u001b[0m\n",
            "\u001b[2K   \u001b[90m━━━━━━━━━━━━━━━━━━━━━━━━━━━━━━━━━━━━━━━━\u001b[0m \u001b[32m384.0/384.0 kB\u001b[0m \u001b[31m22.0 MB/s\u001b[0m eta \u001b[36m0:00:00\u001b[0m\n",
            "\u001b[2K   \u001b[90m━━━━━━━━━━━━━━━━━━━━━━━━━━━━━━━━━━━━━━━━\u001b[0m \u001b[32m140.2/140.2 kB\u001b[0m \u001b[31m8.4 MB/s\u001b[0m eta \u001b[36m0:00:00\u001b[0m\n",
            "\u001b[2K   \u001b[90m━━━━━━━━━━━━━━━━━━━━━━━━━━━━━━━━━━━━━━━━\u001b[0m \u001b[32m360.4/360.4 kB\u001b[0m \u001b[31m22.3 MB/s\u001b[0m eta \u001b[36m0:00:00\u001b[0m\n",
            "\u001b[2K   \u001b[90m━━━━━━━━━━━━━━━━━━━━━━━━━━━━━━━━━━━━━━━━\u001b[0m \u001b[32m75.6/75.6 kB\u001b[0m \u001b[31m4.5 MB/s\u001b[0m eta \u001b[36m0:00:00\u001b[0m\n",
            "\u001b[2K   \u001b[90m━━━━━━━━━━━━━━━━━━━━━━━━━━━━━━━━━━━━━━━━\u001b[0m \u001b[32m77.9/77.9 kB\u001b[0m \u001b[31m5.4 MB/s\u001b[0m eta \u001b[36m0:00:00\u001b[0m\n",
            "\u001b[2K   \u001b[90m━━━━━━━━━━━━━━━━━━━━━━━━━━━━━━━━━━━━━━━━\u001b[0m \u001b[32m318.9/318.9 kB\u001b[0m \u001b[31m14.7 MB/s\u001b[0m eta \u001b[36m0:00:00\u001b[0m\n",
            "\u001b[2K   \u001b[90m━━━━━━━━━━━━━━━━━━━━━━━━━━━━━━━━━━━━━━━━\u001b[0m \u001b[32m141.1/141.1 kB\u001b[0m \u001b[31m11.3 MB/s\u001b[0m eta \u001b[36m0:00:00\u001b[0m\n",
            "\u001b[2K   \u001b[90m━━━━━━━━━━━━━━━━━━━━━━━━━━━━━━━━━━━━━━━━\u001b[0m \u001b[32m49.2/49.2 kB\u001b[0m \u001b[31m3.5 MB/s\u001b[0m eta \u001b[36m0:00:00\u001b[0m\n",
            "\u001b[2K   \u001b[90m━━━━━━━━━━━━━━━━━━━━━━━━━━━━━━━━━━━━━━━━\u001b[0m \u001b[32m58.3/58.3 kB\u001b[0m \u001b[31m3.8 MB/s\u001b[0m eta \u001b[36m0:00:00\u001b[0m\n",
            "\u001b[?25h"
          ]
        }
      ]
    },
    {
      "cell_type": "code",
      "source": [
        "gros_text=\"\"\"Date : 19 octobre 2021\n",
        "Témoin : John Doe\n",
        "\n",
        "Bonjour Officier,\n",
        "\n",
        "Je m'appelle John Doe et le 19 octobre 2021, on m'a volé mon portefeuille dans les environs de Kilmarnock lors d'une excursion à vélo. Ce portefeuille contient des objets qui me sont très importants.\n",
        "\n",
        "Premièrement, le portefeuille contient ma carte de crédit avec le numéro 4111111111111111, qui est enregistrée sous mon nom et liée à mon compte bancaire, PL61109010140000071219812874.\n",
        "\n",
        "De plus, le portefeuille contenait un permis de conduire - N° de permis : 999000680 émis à mon nom. Il contient également mon numéro de sécurité sociale, 602-76-4532.\n",
        "\n",
        "En outre, j'avais ma carte d'identité polonaise, avec le numéro ABC123456.\n",
        "\n",
        "Je souhaite que ces données soient sécurisées et protégées par tous les moyens possibles. Je crois qu'il a été volé à 9h30.\n",
        "\n",
        "Si jamais des informations apparaissent concernant mon portefeuille, veuillez me contacter par téléphone au 999-888-7777 ou par e-mail personnel, johndoe@example.com.\n",
        "\n",
        "Veuillez considérer ces informations comme hautement confidentielles et respecter ma vie privée.\n",
        "\n",
        "La banque a été informée du vol de la carte de crédit et les actions nécessaires ont été prises de leur côté. Ils seront joignables via leur e-mail officiel, support@bankname.com. Ma représentante là-bas est Victoria Cherry (son téléphone professionnel : 987-654-3210).\n",
        "\n",
        "Merci pour votre aide,\n",
        "\n",
        "Hedi Turki\n",
        "Téléphone : 0654859475\n",
        "IBAN Français : FR6110901014000007121981874 (RIB français)\n",
        "Sécurité sociale française : 121212121212\n",
        "Sécurité sociale maladie : 201069935115371\n",
        "Numéro de permis français : ABV123156324561\n",
        "Adresse format français : 43 avenue colonel zebi 93100, Montreuil, Île-de-France\n",
        "\n",
        "On se retrouve à 9h30\n",
        "\n",
        "J'avais ma carte d'identité polonaise là-bas, avec le numéro ABC123456.\n",
        "J'avais ma carte d'identité polonaise là-bas, avec le numéro ABC123456.\n",
        "Adresse IP : 52.222.158.75\n",
        "\n",
        "Voici mon ID polonais : ABC123456 Mon numéro de sécurité sociale : 201069935115371, sécurité sociale 112233 de Victor Hugo, mon passeport : 12AB12359, oui oui je m'excuse\n",
        "John Doe\"\"\"\n",
        "\n",
        "gros_text_anglais = \"\"\"Date: October 19, 2021\n",
        " Witness: John Doe\n",
        " Subject: Testimony Regarding the Loss of Wallet\n",
        "\n",
        " Testimony Content:\n",
        "\n",
        " Hello Officer,\n",
        "\n",
        " My name is John Doe and on October 19, 2021, my wallet was stolen in the vicinity of Kilmarnock during a bike trip. This wallet contains some very important things to me.\n",
        "\n",
        " Firstly, the wallet contains my credit card with number 4111 1111 1111 1111, which is registered under my name and linked to my bank account, PL61109010140000071219812874.\n",
        "\n",
        " Additionally, the wallet had a driver's license - DL No: 999000680 issued to my name. It also houses my Social Security Number, 602-76-4532.\n",
        "\n",
        " What's more, I had my polish identity card there, with the number ABC123456.\n",
        "\n",
        " I would like this data to be secured and protected in all possible ways. I believe It was stolen at 9:30 AM.\n",
        "\n",
        " In case any information arises regarding my wallet, please reach out to me on my phone number, 999-888-7777, or through my personal email, johndoe@example.com.\n",
        "\n",
        " Please consider this information to be highly confidential and respect my privacy.\n",
        "\n",
        " The bank has been informed about the stolen credit card and necessary actions have been taken from their end. They will be reachable at their official email, support@bankname.com.\n",
        " My representative there is Victoria Cherry (her business phone: 987-654-3210).\n",
        "\n",
        " Thank you for your assistance,\n",
        "\n",
        " John Doe\"\"\""
      ],
      "metadata": {
        "id": "CbTPTsyyeM63"
      },
      "execution_count": 4,
      "outputs": []
    },
    {
      "cell_type": "code",
      "source": [
        "from presidio_analyzer import Pattern, PatternRecognizer\n",
        "from presidio_analyzer import AnalyzerEngine, RecognizerRegistry\n",
        "from presidio_analyzer.nlp_engine import NlpEngineProvider\n",
        "\n",
        "LANGUAGES_CONFIG_FILE = \"/content/languages-config.yml\"\n",
        "\n",
        "# Create NLP engine based on configuration file\n",
        "provider = NlpEngineProvider(conf_file=LANGUAGES_CONFIG_FILE)\n",
        "nlp_engine_with_french = provider.create_engine()\n",
        "\n",
        "context_nir=[\"securite\",\"sociale\", \"maladie\"]\n",
        "NIR_pattern = Pattern(\n",
        "    name=\"nir_pattern\",\n",
        "    regex=\"[1-478][0-9]{2}(0[1-9]|1[0-2]|62|63)(2[ABab]|[0-9]{2})(00[1-9]|0[1-9][0-9]|[1-8][0-9]{2}|9[0-8][0-9]|990)(00[1-9]|0[1-9][0-9]|[1-9][0-9]{2})(0[1-9]|[1-8][0-9]|9[0-7])\",\n",
        "    score=1)\n",
        "nir_recognizer = PatternRecognizer(supported_entity=\"NIR\", patterns=[NIR_pattern],context=context_nir, supported_language=\"fr\")\n",
        "polish_id_pattern = Pattern(\n",
        "    name=\"polish_id_pattern\",\n",
        "    regex=\"[A-Z]{3}\\d{6}\",\n",
        "    score=1,\n",
        ")\n",
        "polish_id_recognizer = PatternRecognizer(\n",
        "    supported_entity=\"POLISH_ID\", patterns=[polish_id_pattern], supported_language=\"fr\"\n",
        ")\n",
        "context_passeport=[\"voyage\",\"document\", \"passeport\"]\n",
        "passeport_pattern = Pattern(\n",
        "    name=\"passeport_pattern\",\n",
        "    regex=\"[0-9]{2}[A-z]{2}[0-9]{5}\",\n",
        "    score=1)\n",
        "passeport_recognizer = PatternRecognizer(supported_entity=\"PASSEPORT\", patterns=[passeport_pattern],context=context_passeport, supported_language=\"fr\")\n",
        "\n",
        "context_rib=[\"banque\",\"IBAN\", \"compte\"]\n",
        "rib_pattern = Pattern(\n",
        "    name=\"rib_pattern\",\n",
        "    regex=\"FR\\d{12}[0-9A-Z]{11}\\d{2}\",\n",
        "    score=1)\n",
        "rib_recognizer = PatternRecognizer(supported_entity=\"RIB\", patterns=[rib_pattern],context=context_rib, supported_language=\"fr\")\n",
        "\n"
      ],
      "metadata": {
        "id": "eQr_2dnOEfZk",
        "colab": {
          "base_uri": "https://localhost:8080/"
        },
        "outputId": "2caa51e7-1fe6-4598-b4c4-9a22f438c357"
      },
      "execution_count": 5,
      "outputs": [
        {
          "output_type": "stream",
          "name": "stderr",
          "text": [
            "WARNING:presidio-analyzer:configuration file /content/languages-config.yml not found.  Using default config: {'nlp_engine_name': 'spacy', 'models': [{'lang_code': 'en', 'model_name': 'en_core_web_lg'}]}.\n",
            "WARNING:presidio-analyzer:configuration file is missing 'ner_model_configuration'. Using default\n",
            "WARNING:presidio-analyzer:model_to_presidio_entity_mapping is missing from configuration, using default\n",
            "WARNING:presidio-analyzer:low_score_entity_names is missing from configuration, using default\n",
            "WARNING:presidio-analyzer:labels_to_ignore is missing from configuration, using default\n"
          ]
        }
      ]
    },
    {
      "cell_type": "markdown",
      "source": [],
      "metadata": {
        "id": "e8-OoZZQxHDm"
      }
    },
    {
      "cell_type": "code",
      "source": [
        "from presidio_analyzer import AnalyzerEngine, RecognizerRegistry\n",
        "registry = RecognizerRegistry(supported_languages=[\"en\",\"fr\"])\n",
        "registry.load_predefined_recognizers()\n",
        "#registry.remove_recognizer(\"UsBankRecognizer\")\n",
        "#registry.remove_recognizer(\"UsLicenseRecognizer\")\n",
        "\n",
        "# Add the recognizer to the existing list of recognizers\n",
        "registry.add_recognizer(nir_recognizer)\n",
        "registry.add_recognizer(polish_id_recognizer)\n",
        "registry.add_recognizer(passeport_recognizer)\n",
        "registry.add_recognizer(rib_recognizer)\n",
        "\n",
        "# Set up analyzer with our updated recognizer registry\n",
        "# analyzer = AnalyzerEngine(registry=registry)\n",
        "\n",
        "analyzer = AnalyzerEngine(\n",
        "    registry=registry,\n",
        "    supported_languages=[\"en\",\"fr\"],\n",
        "    nlp_engine=nlp_engine_with_french)\n",
        "# Run with input text\n",
        "text1=\"Voici mon id polonais: ABC123456 Mon numéro de securite sociale 201069935115371, securite sociale 112233 de Victor Hugo mon passeport : 12AB12359 oui oui je m'excuse\"\n",
        "text=\"Voici mon id polonais: ABC123456\"\n",
        "text2=\" my bank account, GB74HAVG65414586850142\"\n",
        "\n",
        "results = analyzer.analyze(text=gros_text, language=\"fr\")\n",
        "print(results)"
      ],
      "metadata": {
        "colab": {
          "base_uri": "https://localhost:8080/"
        },
        "id": "WTP9PRRbEl9R",
        "outputId": "65b8d719-83ac-4111-ffec-bbad31930f7c"
      },
      "execution_count": 42,
      "outputs": [
        {
          "output_type": "stream",
          "name": "stderr",
          "text": [
            "WARNING:presidio-analyzer:Recognizer not added to registry because language is not supported by registry - CreditCardRecognizer supported languages: es, registry supported languages: en\n",
            "WARNING:presidio-analyzer:Recognizer not added to registry because language is not supported by registry - CreditCardRecognizer supported languages: it, registry supported languages: en\n",
            "WARNING:presidio-analyzer:Recognizer not added to registry because language is not supported by registry - CreditCardRecognizer supported languages: pl, registry supported languages: en\n",
            "WARNING:presidio-analyzer:Recognizer not added to registry because language is not supported by registry - EsNifRecognizer supported languages: es, registry supported languages: en\n",
            "WARNING:presidio-analyzer:Recognizer not added to registry because language is not supported by registry - EsNieRecognizer supported languages: es, registry supported languages: en\n",
            "WARNING:presidio-analyzer:Recognizer not added to registry because language is not supported by registry - ItDriverLicenseRecognizer supported languages: it, registry supported languages: en\n",
            "WARNING:presidio-analyzer:Recognizer not added to registry because language is not supported by registry - ItFiscalCodeRecognizer supported languages: it, registry supported languages: en\n",
            "WARNING:presidio-analyzer:Recognizer not added to registry because language is not supported by registry - ItVatCodeRecognizer supported languages: it, registry supported languages: en\n",
            "WARNING:presidio-analyzer:Recognizer not added to registry because language is not supported by registry - ItIdentityCardRecognizer supported languages: it, registry supported languages: en\n",
            "WARNING:presidio-analyzer:Recognizer not added to registry because language is not supported by registry - ItPassportRecognizer supported languages: it, registry supported languages: en\n",
            "WARNING:presidio-analyzer:Recognizer not added to registry because language is not supported by registry - PlPeselRecognizer supported languages: pl, registry supported languages: en\n",
            "WARNING:presidio-analyzer:Entity MISC is not mapped to a Presidio entity, but keeping anyway. Add to `NerModelConfiguration.labels_to_ignore` to remove.\n",
            "WARNING:presidio-analyzer:Entity MISC is not mapped to a Presidio entity, but keeping anyway. Add to `NerModelConfiguration.labels_to_ignore` to remove.\n",
            "WARNING:presidio-analyzer:Entity MISC is not mapped to a Presidio entity, but keeping anyway. Add to `NerModelConfiguration.labels_to_ignore` to remove.\n",
            "WARNING:presidio-analyzer:Entity MISC is not mapped to a Presidio entity, but keeping anyway. Add to `NerModelConfiguration.labels_to_ignore` to remove.\n",
            "WARNING:presidio-analyzer:Entity MISC is not mapped to a Presidio entity, but keeping anyway. Add to `NerModelConfiguration.labels_to_ignore` to remove.\n",
            "WARNING:presidio-analyzer:Entity MISC is not mapped to a Presidio entity, but keeping anyway. Add to `NerModelConfiguration.labels_to_ignore` to remove.\n",
            "WARNING:presidio-analyzer:Entity MISC is not mapped to a Presidio entity, but keeping anyway. Add to `NerModelConfiguration.labels_to_ignore` to remove.\n",
            "WARNING:presidio-analyzer:Entity MISC is not mapped to a Presidio entity, but keeping anyway. Add to `NerModelConfiguration.labels_to_ignore` to remove.\n",
            "WARNING:presidio-analyzer:Entity MISC is not mapped to a Presidio entity, but keeping anyway. Add to `NerModelConfiguration.labels_to_ignore` to remove.\n",
            "WARNING:presidio-analyzer:Entity MISC is not mapped to a Presidio entity, but keeping anyway. Add to `NerModelConfiguration.labels_to_ignore` to remove.\n",
            "WARNING:presidio-analyzer:Entity MISC is not mapped to a Presidio entity, but keeping anyway. Add to `NerModelConfiguration.labels_to_ignore` to remove.\n",
            "WARNING:presidio-analyzer:Entity MISC is not mapped to a Presidio entity, but keeping anyway. Add to `NerModelConfiguration.labels_to_ignore` to remove.\n",
            "WARNING:presidio-analyzer:Entity MISC is not mapped to a Presidio entity, but keeping anyway. Add to `NerModelConfiguration.labels_to_ignore` to remove.\n",
            "WARNING:presidio-analyzer:Entity MISC is not mapped to a Presidio entity, but keeping anyway. Add to `NerModelConfiguration.labels_to_ignore` to remove.\n",
            "WARNING:presidio-analyzer:Entity MISC is not mapped to a Presidio entity, but keeping anyway. Add to `NerModelConfiguration.labels_to_ignore` to remove.\n"
          ]
        },
        {
          "output_type": "stream",
          "name": "stdout",
          "text": [
            "[type: POLISH_ID, start: 687, end: 696, score: 1, type: PERSON, start: 33, end: 110, score: 0.85, type: LOCATION, start: 446, end: 474, score: 0.85, type: LOCATION, start: 478, end: 490, score: 0.85, type: PERSON, start: 863, end: 904, score: 0.85, type: LOCATION, start: 1216, end: 1236, score: 0.85, type: PERSON, start: 1353, end: 1361, score: 0.85]\n"
          ]
        }
      ]
    },
    {
      "cell_type": "code",
      "source": [],
      "metadata": {
        "id": "97IP6V1h0HiN"
      },
      "execution_count": null,
      "outputs": []
    },
    {
      "cell_type": "code",
      "source": [
        "import re\n",
        "\n",
        "\n",
        "def print_colored_pii(string):\n",
        "    colored_string = re.sub(\n",
        "        r\"(<[^>]*>)\", lambda m: \"\\033[31m\" + m.group(1) + \"\\033[0m\", string\n",
        "    )\n",
        "    print(colored_string)"
      ],
      "metadata": {
        "id": "27d9PZ2iy_JP"
      },
      "execution_count": 8,
      "outputs": []
    },
    {
      "cell_type": "code",
      "source": [
        "from faker import Faker\n",
        "\n",
        "fake = Faker()\n",
        "\n",
        "\n",
        "def fake_polish_id(_=None):\n",
        "    return fake.bothify(text=\"???######\").upper()\n",
        "\n",
        "\n",
        "fake_polish_id()"
      ],
      "metadata": {
        "colab": {
          "base_uri": "https://localhost:8080/",
          "height": 55
        },
        "id": "g7gcn5k_R8ls",
        "outputId": "a9395688-7b33-4444-8087-efb902390b0c"
      },
      "execution_count": 9,
      "outputs": [
        {
          "output_type": "execute_result",
          "data": {
            "text/plain": [
              "'JPC166500'"
            ],
            "application/vnd.google.colaboratory.intrinsic+json": {
              "type": "string"
            }
          },
          "metadata": {},
          "execution_count": 9
        }
      ]
    },
    {
      "cell_type": "code",
      "source": [
        "from presidio_anonymizer.entities import OperatorConfig\n",
        "\n",
        "new_operators = {\n",
        "    \"POLISH_ID\": OperatorConfig(\"custom\", {\"lambda\": fake_polish_id})\n",
        "}\n",
        "\n"
      ],
      "metadata": {
        "id": "NqJnPup5UoXF"
      },
      "execution_count": 10,
      "outputs": []
    },
    {
      "cell_type": "code",
      "source": [
        "from langchain_experimental.data_anonymizer import PresidioReversibleAnonymizer\n",
        "from presidio_anonymizer import AnonymizerEngine\n",
        "\n",
        "nlp_config = {\n",
        "    \"nlp_engine_name\": \"spacy\",\n",
        "    \"models\": [\n",
        "        {\"lang_code\": \"en\", \"model_name\": \"en_core_web_md\"},\n",
        "        {\"lang_code\": \"fr\", \"model_name\": \"fr_core_news_lg\"},\n",
        "    ],\n",
        "}\n",
        "\n",
        "anonymizer = PresidioReversibleAnonymizer(add_default_faker_operators=False, languages_config=nlp_config)\n",
        "# engine = AnonymizerEngine()\n",
        "\n",
        "# result1 = engine.anonymize(\n",
        "#     text=gros_text,\n",
        "#     analyzer_results=results\n",
        "# )\n",
        "\n",
        "# print(result1)\n",
        "# print(type(result1))\n",
        "\n",
        "anonymizer.add_recognizer(polish_id_recognizer)\n",
        "anonymizer.add_recognizer(nir_recognizer)\n",
        "anonymizer.add_recognizer(rib_recognizer)\n",
        "anonymizer.add_recognizer(passeport_recognizer)\n",
        "print_colored_pii(anonymizer.anonymize(gros_text, language=\"fr\"))"
      ],
      "metadata": {
        "colab": {
          "base_uri": "https://localhost:8080/"
        },
        "id": "WqLUO2BHyvpZ",
        "outputId": "1eb0f34f-2fd3-494c-f866-daf3e0f86348"
      },
      "execution_count": 9,
      "outputs": [
        {
          "output_type": "stream",
          "name": "stderr",
          "text": [
            "WARNING:presidio-analyzer:model_to_presidio_entity_mapping is missing from configuration, using default\n",
            "WARNING:presidio-analyzer:low_score_entity_names is missing from configuration, using default\n",
            "WARNING:presidio-analyzer:labels_to_ignore is missing from configuration, using default\n",
            "WARNING:presidio-analyzer:Recognizer not added to registry because language is not supported by registry - CreditCardRecognizer supported languages: es, registry supported languages: en, fr\n",
            "WARNING:presidio-analyzer:Recognizer not added to registry because language is not supported by registry - CreditCardRecognizer supported languages: it, registry supported languages: en, fr\n",
            "WARNING:presidio-analyzer:Recognizer not added to registry because language is not supported by registry - CreditCardRecognizer supported languages: pl, registry supported languages: en, fr\n",
            "WARNING:presidio-analyzer:Recognizer not added to registry because language is not supported by registry - EsNifRecognizer supported languages: es, registry supported languages: en, fr\n",
            "WARNING:presidio-analyzer:Recognizer not added to registry because language is not supported by registry - EsNieRecognizer supported languages: es, registry supported languages: en, fr\n",
            "WARNING:presidio-analyzer:Recognizer not added to registry because language is not supported by registry - ItDriverLicenseRecognizer supported languages: it, registry supported languages: en, fr\n",
            "WARNING:presidio-analyzer:Recognizer not added to registry because language is not supported by registry - ItFiscalCodeRecognizer supported languages: it, registry supported languages: en, fr\n",
            "WARNING:presidio-analyzer:Recognizer not added to registry because language is not supported by registry - ItVatCodeRecognizer supported languages: it, registry supported languages: en, fr\n",
            "WARNING:presidio-analyzer:Recognizer not added to registry because language is not supported by registry - ItIdentityCardRecognizer supported languages: it, registry supported languages: en, fr\n",
            "WARNING:presidio-analyzer:Recognizer not added to registry because language is not supported by registry - ItPassportRecognizer supported languages: it, registry supported languages: en, fr\n",
            "WARNING:presidio-analyzer:Recognizer not added to registry because language is not supported by registry - PlPeselRecognizer supported languages: pl, registry supported languages: en, fr\n",
            "WARNING:presidio-analyzer:Entity MISC is not mapped to a Presidio entity, but keeping anyway. Add to `NerModelConfiguration.labels_to_ignore` to remove.\n",
            "WARNING:presidio-analyzer:Entity MISC is not mapped to a Presidio entity, but keeping anyway. Add to `NerModelConfiguration.labels_to_ignore` to remove.\n",
            "WARNING:presidio-analyzer:Entity MISC is not mapped to a Presidio entity, but keeping anyway. Add to `NerModelConfiguration.labels_to_ignore` to remove.\n",
            "WARNING:presidio-analyzer:Entity MISC is not mapped to a Presidio entity, but keeping anyway. Add to `NerModelConfiguration.labels_to_ignore` to remove.\n",
            "WARNING:presidio-analyzer:Entity MISC is not mapped to a Presidio entity, but keeping anyway. Add to `NerModelConfiguration.labels_to_ignore` to remove.\n",
            "WARNING:presidio-analyzer:Entity MISC is not mapped to a Presidio entity, but keeping anyway. Add to `NerModelConfiguration.labels_to_ignore` to remove.\n"
          ]
        },
        {
          "output_type": "stream",
          "name": "stdout",
          "text": [
            "Date : 19 octobre 2021\n",
            "\u001b[31m<PERSON>\u001b[0m : \u001b[31m<PERSON_2>\u001b[0m\n",
            "\n",
            "Bonjour Officier,\n",
            "\n",
            "Je m'appelle \u001b[31m<PERSON_2>\u001b[0m et le 19 octobre 2021, on m'a volé mon portefeuille dans les environs de \u001b[31m<LOCATION>\u001b[0m lors d'une excursion à vélo. Ce portefeuille contient des objets qui me sont très importants.\n",
            "\n",
            "Premièrement, le portefeuille contient ma carte de crédit avec le numéro \u001b[31m<NIR>\u001b[0m1, qui est enregistrée sous mon nom et liée à mon compte bancaire, \u001b[31m<IBAN_CODE>\u001b[0m.\n",
            "\n",
            "De plus, le portefeuille contenait un permis de conduire - N° de permis : 999000680 émis à mon nom. Il contient également mon numéro de sécurité sociale, 602-76-4532.\n",
            "\n",
            "En outre, j'avais ma carte d'identité polonaise, avec le numéro \u001b[31m<POLISH_ID>\u001b[0m.\n",
            "\n",
            "Je souhaite que ces données soient sécurisées et protégées par tous les moyens possibles. Je crois qu'il a été volé à 9h30.\n",
            "\n",
            "Si jamais des informations apparaissent concernant mon portefeuille, veuillez me contacter par téléphone au \u001b[31m<PHONE_NUMBER>\u001b[0m ou par e-mail personnel, \u001b[31m<EMAIL_ADDRESS>\u001b[0m.\n",
            "\n",
            "Veuillez considérer ces informations comme hautement confidentielles et respecter ma vie privée.\n",
            "\n",
            "La banque a été informée du vol de la carte de crédit et les actions nécessaires ont été prises de leur côté. Ils seront joignables via leur e-mail officiel, \u001b[31m<EMAIL_ADDRESS_2>\u001b[0m. Ma représentante là-bas est \u001b[31m<PERSON_3>\u001b[0m (son téléphone professionnel : \u001b[31m<PHONE_NUMBER_2>\u001b[0m).\n",
            "\n",
            "Merci pour votre aide,\n",
            "\n",
            "\u001b[31m<PERSON_4>\u001b[0m\n",
            "Téléphone : \u001b[31m<PHONE_NUMBER_3>\u001b[0m\n",
            "IBAN \u001b[31m<LOCATION_2>\u001b[0m : \u001b[31m<RIB>\u001b[0m (RIB français)\n",
            "Sécurité sociale française : 121212121212\n",
            "Sécurité sociale maladie : \u001b[31m<NIR_2>\u001b[0m\n",
            "Numéro de permis français : \u001b[31m<PERSON_5>\u001b[0m format français : 43 avenue colonel zebi 93100, \u001b[31m<LOCATION_3>\u001b[0m, \u001b[31m<LOCATION_4>\u001b[0m\n",
            "\n",
            "On se retrouve à 9h30\n",
            "\n",
            "J'avais ma carte d'identité polonaise là-bas, avec le numéro \u001b[31m<POLISH_ID>\u001b[0m.\n",
            "J'avais ma carte d'identité polonaise là-bas, avec le numéro \u001b[31m<POLISH_ID>\u001b[0m.\n",
            "Adresse IP : \u001b[31m<IP_ADDRESS>\u001b[0m\n",
            "\n",
            "Voici mon ID polonais : \u001b[31m<POLISH_ID>\u001b[0m Mon numéro de sécurité sociale : \u001b[31m<NIR_2>\u001b[0m, sécurité sociale 112233 de \u001b[31m<PERSON_6>\u001b[0m, mon passeport : \u001b[31m<PASSEPORT>\u001b[0m, oui oui je m'excuse\n",
            "\u001b[31m<PERSON_2>\u001b[0m\n"
          ]
        }
      ]
    },
    {
      "cell_type": "markdown",
      "source": [
        "text: Date : 19 octobre 2021\n",
        "<PERSON> : <PERSON>\n",
        "\n",
        "Bonjour Officier,\n",
        "\n",
        "Je m'appelle <PERSON> et le 19 octobre 2021, on m'a volé mon portefeuille dans les environs de <LOCATION> lors d'une excursion à vélo. Ce portefeuille contient des objets qui me sont très importants.\n",
        "\n",
        "Premièrement, le portefeuille contient ma carte de crédit avec le numéro <NIR>1, qui est enregistrée sous mon nom et liée à mon compte bancaire, <LOCATION>.\n",
        "\n",
        "De plus, le portefeuille contenait un permis de conduire - N° de permis : 999000680 émis à mon nom. Il contient également mon numéro de sécurité sociale, 602-76-4532.\n",
        "\n",
        "En outre, j'avais ma carte d'identité polonaise, avec le numéro <POLISH_ID>.\n",
        "\n",
        "Je souhaite que ces données soient sécurisées et protégées par tous les moyens possibles. Je crois qu'il a été volé à 9h30.\n",
        "\n",
        "Si jamais des informations apparaissent concernant mon portefeuille, veuillez me contacter par téléphone au 999-888-7777 ou par e-mail personnel, johndoe@example.com.\n",
        "\n",
        "Veuillez considérer ces informations comme hautement confidentielles et respecter ma vie privée.\n",
        "\n",
        "La banque a été informée du vol de la carte de crédit et les actions nécessaires ont été prises de leur côté. Ils seront joignables via leur e-mail officiel, <LOCATION>. Ma représentante là-bas est <PERSON> (son téléphone professionnel : 987-654-3210).\n",
        "\n",
        "Merci pour votre aide,\n",
        "\n",
        "<PERSON>\n",
        "Téléphone : 0654859475\n",
        "IBAN <LOCATION> : <RIB> (RIB français)\n",
        "Sécurité sociale française : 121212121212\n",
        "Sécurité sociale maladie : <NIR>\n",
        "Numéro de permis français : <PERSON> format français : 43 avenue colonel zebi 93100, <LOCATION>, <LOCATION>\n",
        "\n",
        "On se retrouve à 9h30\n",
        "\n",
        "J'avais ma carte d'identité polonaise là-bas, avec le numéro <POLISH_ID>.\n",
        "J'avais ma carte d'identité polonaise là-bas, avec le numéro <POLISH_ID>.\n",
        "Adresse IP : 52.222.158.75\n",
        "\n",
        "Voici mon ID polonais : <POLISH_ID> Mon numéro de sécurité sociale : <NIR>, sécurité sociale 112233 de <PERSON>, mon passeport : <PASSEPORT>, oui oui je m'excuse\n",
        "<PERSON>\n",
        "items:\n",
        "[\n",
        "    {'start': 1953, 'end': 1961, 'entity_type': 'PERSON', 'text': '<PERSON>', 'operator': 'replace'},\n",
        "    {'start': 1920, 'end': 1931, 'entity_type': 'PASSEPORT', 'text': '<PASSEPORT>', 'operator': 'replace'},\n",
        "    {'start': 1894, 'end': 1902, 'entity_type': 'PERSON', 'text': '<PERSON>', 'operator': 'replace'},\n",
        "    {'start': 1860, 'end': 1865, 'entity_type': 'NIR', 'text': '<NIR>', 'operator': 'replace'},\n",
        "    {'start': 1815, 'end': 1826, 'entity_type': 'POLISH_ID', 'text': '<POLISH_ID>', 'operator': 'replace'},\n",
        "    {'start': 1750, 'end': 1761, 'entity_type': 'POLISH_ID', 'text': '<POLISH_ID>', 'operator': 'replace'},\n",
        "    {'start': 1676, 'end': 1687, 'entity_type': 'POLISH_ID', 'text': '<POLISH_ID>', 'operator': 'replace'},\n",
        "    {'start': 1580, 'end': 1590, 'entity_type': 'LOCATION', 'text': '<LOCATION>', 'operator': 'replace'},\n",
        "    {'start': 1568, 'end': 1578, 'entity_type': 'LOCATION', 'text': '<LOCATION>', 'operator': 'replace'},\n",
        "    {'start': 1511, 'end': 1519, 'entity_type': 'PERSON', 'text': '<PERSON>', 'operator': 'replace'},\n",
        "    {'start': 1477, 'end': 1482, 'entity_type': 'NIR', 'text': '<NIR>', 'operator': 'replace'},\n",
        "    {'start': 1387, 'end': 1392, 'entity_type': 'RIB', 'text': '<RIB>', 'operator': 'replace'},\n",
        "    {'start': 1374, 'end': 1384, 'entity_type': 'LOCATION', 'text': '<LOCATION>', 'operator': 'replace'},\n",
        "    {'start': 1337, 'end': 1345, 'entity_type': 'PERSON', 'text': '<PERSON>', 'operator': 'replace'},\n",
        "    {'start': 1257, 'end': 1265, 'entity_type': 'PERSON', 'text': '<PERSON>', 'operator': 'replace'},\n",
        "    {'start': 1217, 'end': 1227, 'entity_type': 'LOCATION', 'text': '<LOCATION>', 'operator': 'replace'},\n",
        "    {'start': 654, 'end': 665, 'entity_type': 'POLISH_ID', 'text': '<POLISH_ID>', 'operator': 'replace'},\n",
        "    {'start': 409, 'end': 419, 'entity_type': 'LOCATION', 'text': '<LOCATION>', 'operator': 'replace'},\n",
        "    {'start': 337, 'end': 342, 'entity_type': 'NIR', 'text': '<NIR>', 'operator': 'replace'},\n",
        "    {'start': 158, 'end': 168, 'entity_type': 'LOCATION', 'text': '<LOCATION>', 'operator': 'replace'},\n",
        "    {'start': 76, 'end': 84, 'entity_type': 'PERSON', 'text': '<PERSON>', 'operator': 'replace'},\n",
        "    {'start': 34, 'end': 42, 'entity_type': 'PERSON', 'text': '<PERSON>', 'operator': 'replace'},\n",
        "    {'start': 23, 'end': 31, 'entity_type': 'PERSON', 'text': '<PERSON>', 'operator': 'replace'}\n",
        "]\n",
        "\n",
        "<class 'presidio_anonymizer.entities.engine.result.engine_result.EngineResult'>"
      ],
      "metadata": {
        "id": "fKpTwMVl2WgA"
      }
    },
    {
      "cell_type": "code",
      "source": [
        "print(anonymizer.deanonymizer_mapping)\n"
      ],
      "metadata": {
        "colab": {
          "base_uri": "https://localhost:8080/"
        },
        "id": "B5mgT20uVSJl",
        "outputId": "9c083f43-56db-4ede-8be0-c8a46c86e1d4"
      },
      "execution_count": 48,
      "outputs": [
        {
          "output_type": "stream",
          "name": "stdout",
          "text": [
            "{}\n"
          ]
        }
      ]
    },
    {
      "cell_type": "markdown",
      "source": [
        "Utilisation PresidioReveribleAnonymizer avec langue française configurée.\n",
        "\n",
        "Date : 19 octobre 2021\n",
        "<PERSON> : <PERSON_2>\n",
        "\n",
        "Bonjour Officier,\n",
        "\n",
        "Je m'appelle <PERSON_2> et le 19 octobre 2021, on m'a volé mon portefeuille dans les environs de <LOCATION> lors d'une excursion à vélo. Ce portefeuille contient des objets qui me sont très importants.\n",
        "\n",
        "Premièrement, le portefeuille contient ma carte de crédit avec le numéro <NIR>1, qui est enregistrée sous mon nom et liée à mon compte bancaire, <IBAN_CODE>.\n",
        "\n",
        "De plus, le portefeuille contenait un permis de conduire - N° de permis : 999000680 émis à mon nom. Il contient également mon numéro de sécurité sociale, 602-76-4532.\n",
        "\n",
        "En outre, j'avais ma carte d'identité polonaise, avec le numéro <POLISH_ID>.\n",
        "\n",
        "Je souhaite que ces données soient sécurisées et protégées par tous les moyens possibles. Je crois qu'il a été volé à 9h30.\n",
        "\n",
        "Si jamais des informations apparaissent concernant mon portefeuille, veuillez me contacter par téléphone au <PHONE_NUMBER> ou par e-mail personnel, <EMAIL_ADDRESS>.\n",
        "\n",
        "Veuillez considérer ces informations comme hautement confidentielles et respecter ma vie privée.\n",
        "\n",
        "La banque a été informée du vol de la carte de crédit et les actions nécessaires ont été prises de leur côté. Ils seront joignables via leur e-mail officiel, <EMAIL_ADDRESS_2>. Ma représentante là-bas est <PERSON_3> (son téléphone professionnel : <PHONE_NUMBER_2>).\n",
        "\n",
        "Merci pour votre aide,\n",
        "\n",
        "<PERSON_4>\n",
        "Téléphone : <PHONE_NUMBER_3>\n",
        "IBAN <LOCATION_2> : FR6110901014000007121981874 (RIB français)\n",
        "Sécurité sociale française : 121212121212\n",
        "Sécurité sociale maladie : <NIR_2>\n",
        "Numéro de permis français : <PERSON_5> format français : 43 avenue colonel zebi 93100, <LOCATION_3>, <LOCATION_4>\n",
        "\n",
        "On se retrouve à 9h30\n",
        "\n",
        "J'avais ma carte d'identité polonaise là-bas, avec le numéro <POLISH_ID>.\n",
        "J'avais ma carte d'identité polonaise là-bas, avec le numéro <POLISH_ID>.\n",
        "Adresse IP : <IP_ADDRESS>\n",
        "\n",
        "Voici mon ID polonais : <POLISH_ID> Mon numéro de sécurité sociale : <NIR_2>, sécurité sociale 112233 de <PERSON_6>, mon passeport : <PASSEPORT>, oui oui je m'excuse\n",
        "<PERSON_2>"
      ],
      "metadata": {
        "id": "aKaG32hQ5GQA"
      }
    },
    {
      "cell_type": "code",
      "source": [],
      "metadata": {
        "id": "CiHaSJby5Fvr"
      },
      "execution_count": null,
      "outputs": []
    }
  ]
}